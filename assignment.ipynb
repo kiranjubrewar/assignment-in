{
 "cells": [
  {
   "cell_type": "markdown",
   "metadata": {},
   "source": [
    "# first import lib"
   ]
  },
  {
   "cell_type": "code",
   "execution_count": 150,
   "metadata": {},
   "outputs": [],
   "source": [
    "#importing sqame lib \n",
    "import pandas as pd\n",
    "import numpy as np\n",
    "import matplotlib.pyplot as plt\n",
    "%matplotlib inline\n",
    "\n"
   ]
  },
  {
   "cell_type": "markdown",
   "metadata": {},
   "source": [
    "# load the data we want"
   ]
  },
  {
   "cell_type": "code",
   "execution_count": 151,
   "metadata": {},
   "outputs": [
    {
     "data": {
      "text/html": [
       "<div>\n",
       "<style scoped>\n",
       "    .dataframe tbody tr th:only-of-type {\n",
       "        vertical-align: middle;\n",
       "    }\n",
       "\n",
       "    .dataframe tbody tr th {\n",
       "        vertical-align: top;\n",
       "    }\n",
       "\n",
       "    .dataframe thead th {\n",
       "        text-align: right;\n",
       "    }\n",
       "</style>\n",
       "<table border=\"1\" class=\"dataframe\">\n",
       "  <thead>\n",
       "    <tr style=\"text-align: right;\">\n",
       "      <th></th>\n",
       "      <th>V1</th>\n",
       "      <th>V2</th>\n",
       "      <th>V3</th>\n",
       "      <th>V4</th>\n",
       "      <th>V5</th>\n",
       "      <th>V6</th>\n",
       "      <th>V7</th>\n",
       "      <th>V8</th>\n",
       "      <th>V9</th>\n",
       "      <th>V10</th>\n",
       "      <th>V11</th>\n",
       "      <th>V12</th>\n",
       "      <th>V13</th>\n",
       "      <th>Anomaly</th>\n",
       "    </tr>\n",
       "  </thead>\n",
       "  <tbody>\n",
       "    <tr>\n",
       "      <td>0</td>\n",
       "      <td>99.76</td>\n",
       "      <td>1334</td>\n",
       "      <td>99.607</td>\n",
       "      <td>966</td>\n",
       "      <td>1789295</td>\n",
       "      <td>99.47</td>\n",
       "      <td>98.71</td>\n",
       "      <td>81</td>\n",
       "      <td>99.41</td>\n",
       "      <td>28</td>\n",
       "      <td>32390</td>\n",
       "      <td>34</td>\n",
       "      <td>28</td>\n",
       "      <td>0</td>\n",
       "    </tr>\n",
       "    <tr>\n",
       "      <td>1</td>\n",
       "      <td>99.59</td>\n",
       "      <td>1334</td>\n",
       "      <td>99.600</td>\n",
       "      <td>954</td>\n",
       "      <td>1789234</td>\n",
       "      <td>99.18</td>\n",
       "      <td>99.47</td>\n",
       "      <td>76</td>\n",
       "      <td>99.54</td>\n",
       "      <td>30</td>\n",
       "      <td>23101</td>\n",
       "      <td>29</td>\n",
       "      <td>32</td>\n",
       "      <td>0</td>\n",
       "    </tr>\n",
       "    <tr>\n",
       "      <td>2</td>\n",
       "      <td>99.01</td>\n",
       "      <td>1357</td>\n",
       "      <td>98.015</td>\n",
       "      <td>978</td>\n",
       "      <td>1789696</td>\n",
       "      <td>99.75</td>\n",
       "      <td>98.96</td>\n",
       "      <td>83</td>\n",
       "      <td>99.33</td>\n",
       "      <td>28</td>\n",
       "      <td>10651</td>\n",
       "      <td>32</td>\n",
       "      <td>34</td>\n",
       "      <td>0</td>\n",
       "    </tr>\n",
       "    <tr>\n",
       "      <td>3</td>\n",
       "      <td>99.14</td>\n",
       "      <td>1316</td>\n",
       "      <td>98.169</td>\n",
       "      <td>956</td>\n",
       "      <td>1789159</td>\n",
       "      <td>99.66</td>\n",
       "      <td>99.31</td>\n",
       "      <td>86</td>\n",
       "      <td>99.56</td>\n",
       "      <td>26</td>\n",
       "      <td>24177</td>\n",
       "      <td>33</td>\n",
       "      <td>33</td>\n",
       "      <td>1</td>\n",
       "    </tr>\n",
       "    <tr>\n",
       "      <td>4</td>\n",
       "      <td>99.07</td>\n",
       "      <td>1319</td>\n",
       "      <td>98.919</td>\n",
       "      <td>976</td>\n",
       "      <td>1789694</td>\n",
       "      <td>99.14</td>\n",
       "      <td>99.35</td>\n",
       "      <td>78</td>\n",
       "      <td>99.08</td>\n",
       "      <td>26</td>\n",
       "      <td>18134</td>\n",
       "      <td>34</td>\n",
       "      <td>33</td>\n",
       "      <td>0</td>\n",
       "    </tr>\n",
       "  </tbody>\n",
       "</table>\n",
       "</div>"
      ],
      "text/plain": [
       "      V1    V2      V3   V4       V5     V6     V7  V8     V9  V10    V11  \\\n",
       "0  99.76  1334  99.607  966  1789295  99.47  98.71  81  99.41   28  32390   \n",
       "1  99.59  1334  99.600  954  1789234  99.18  99.47  76  99.54   30  23101   \n",
       "2  99.01  1357  98.015  978  1789696  99.75  98.96  83  99.33   28  10651   \n",
       "3  99.14  1316  98.169  956  1789159  99.66  99.31  86  99.56   26  24177   \n",
       "4  99.07  1319  98.919  976  1789694  99.14  99.35  78  99.08   26  18134   \n",
       "\n",
       "   V12  V13  Anomaly  \n",
       "0   34   28        0  \n",
       "1   29   32        0  \n",
       "2   32   34        0  \n",
       "3   33   33        1  \n",
       "4   34   33        0  "
      ]
     },
     "execution_count": 151,
     "metadata": {},
     "output_type": "execute_result"
    }
   ],
   "source": [
    "#load data \n",
    "data=pd.read_excel('C:/Users/kiran/Downloads/asssigenment.xlsx',sheet_name='Data -Testset')\n",
    "data.head()"
   ]
  },
  {
   "cell_type": "markdown",
   "metadata": {},
   "source": [
    "# check the given data is null or not"
   ]
  },
  {
   "cell_type": "code",
   "execution_count": 152,
   "metadata": {},
   "outputs": [
    {
     "data": {
      "text/plain": [
       "V1         0\n",
       "V2         0\n",
       "V3         0\n",
       "V4         0\n",
       "V5         0\n",
       "V6         0\n",
       "V7         0\n",
       "V8         0\n",
       "V9         0\n",
       "V10        0\n",
       "V11        0\n",
       "V12        0\n",
       "V13        0\n",
       "Anomaly    0\n",
       "dtype: int64"
      ]
     },
     "execution_count": 152,
     "metadata": {},
     "output_type": "execute_result"
    }
   ],
   "source": [
    "data.isnull().sum()"
   ]
  },
  {
   "cell_type": "markdown",
   "metadata": {},
   "source": [
    "# use standardscaler \n"
   ]
  },
  {
   "cell_type": "code",
   "execution_count": 153,
   "metadata": {},
   "outputs": [],
   "source": [
    "feature = ['V1','V2','V3','V4','V5','V6','V7','V8','V9','V10','V11','V12','V13']\n",
    "\n",
    "# separating features\n",
    "x = data.loc[:,feature]\n",
    "\n",
    "# separating target\n",
    "y = data.loc[:,'Anomaly']\n",
    "\n",
    "#Standardising features\n",
    "from sklearn.preprocessing import StandardScaler\n",
    "x = StandardScaler().fit_transform(x)"
   ]
  },
  {
   "cell_type": "markdown",
   "metadata": {},
   "source": [
    "# befor pca  the dataset shape\n"
   ]
  },
  {
   "cell_type": "code",
   "execution_count": 154,
   "metadata": {},
   "outputs": [
    {
     "data": {
      "text/plain": [
       "(240, 14)"
      ]
     },
     "execution_count": 154,
     "metadata": {},
     "output_type": "execute_result"
    }
   ],
   "source": [
    "data.shape"
   ]
  },
  {
   "cell_type": "markdown",
   "metadata": {},
   "source": [
    "# add pca to dataset"
   ]
  },
  {
   "cell_type": "code",
   "execution_count": 155,
   "metadata": {},
   "outputs": [],
   "source": [
    "from sklearn.decomposition import PCA\n",
    "\n",
    "pca = PCA(n_components=2)\n",
    "\n",
    "pct = pca.fit_transform(x)\n",
    "\n",
    "principal_df = pd.DataFrame(pct,columns=['pc1','pc2'])\n",
    "\n",
    "finaldf= pd.concat([principal_df,data[['Anomaly']]],axis=1)"
   ]
  },
  {
   "cell_type": "markdown",
   "metadata": {},
   "source": [
    "# after pca the datset shape"
   ]
  },
  {
   "cell_type": "code",
   "execution_count": 156,
   "metadata": {},
   "outputs": [
    {
     "data": {
      "text/plain": [
       "(240, 3)"
      ]
     },
     "execution_count": 156,
     "metadata": {},
     "output_type": "execute_result"
    }
   ],
   "source": [
    "finaldf.shape"
   ]
  },
  {
   "cell_type": "markdown",
   "metadata": {},
   "source": [
    "# the datset after pca it is 2-D dataset now"
   ]
  },
  {
   "cell_type": "code",
   "execution_count": 157,
   "metadata": {},
   "outputs": [
    {
     "data": {
      "text/html": [
       "<div>\n",
       "<style scoped>\n",
       "    .dataframe tbody tr th:only-of-type {\n",
       "        vertical-align: middle;\n",
       "    }\n",
       "\n",
       "    .dataframe tbody tr th {\n",
       "        vertical-align: top;\n",
       "    }\n",
       "\n",
       "    .dataframe thead th {\n",
       "        text-align: right;\n",
       "    }\n",
       "</style>\n",
       "<table border=\"1\" class=\"dataframe\">\n",
       "  <thead>\n",
       "    <tr style=\"text-align: right;\">\n",
       "      <th></th>\n",
       "      <th>pc1</th>\n",
       "      <th>pc2</th>\n",
       "      <th>Anomaly</th>\n",
       "    </tr>\n",
       "  </thead>\n",
       "  <tbody>\n",
       "    <tr>\n",
       "      <td>0</td>\n",
       "      <td>1.975070</td>\n",
       "      <td>-0.490597</td>\n",
       "      <td>0</td>\n",
       "    </tr>\n",
       "    <tr>\n",
       "      <td>1</td>\n",
       "      <td>2.246507</td>\n",
       "      <td>-0.670617</td>\n",
       "      <td>0</td>\n",
       "    </tr>\n",
       "    <tr>\n",
       "      <td>2</td>\n",
       "      <td>2.368611</td>\n",
       "      <td>0.214067</td>\n",
       "      <td>0</td>\n",
       "    </tr>\n",
       "    <tr>\n",
       "      <td>3</td>\n",
       "      <td>2.009143</td>\n",
       "      <td>-0.030211</td>\n",
       "      <td>1</td>\n",
       "    </tr>\n",
       "    <tr>\n",
       "      <td>4</td>\n",
       "      <td>2.061224</td>\n",
       "      <td>0.016261</td>\n",
       "      <td>0</td>\n",
       "    </tr>\n",
       "  </tbody>\n",
       "</table>\n",
       "</div>"
      ],
      "text/plain": [
       "        pc1       pc2  Anomaly\n",
       "0  1.975070 -0.490597        0\n",
       "1  2.246507 -0.670617        0\n",
       "2  2.368611  0.214067        0\n",
       "3  2.009143 -0.030211        1\n",
       "4  2.061224  0.016261        0"
      ]
     },
     "execution_count": 157,
     "metadata": {},
     "output_type": "execute_result"
    }
   ],
   "source": [
    "finaldf.head()"
   ]
  },
  {
   "cell_type": "code",
   "execution_count": 158,
   "metadata": {},
   "outputs": [
    {
     "data": {
      "text/plain": [
       "0      1.975070\n",
       "1      2.246507\n",
       "2      2.368611\n",
       "3      2.009143\n",
       "4      2.061224\n",
       "         ...   \n",
       "235   -1.104154\n",
       "236   -1.386620\n",
       "237   -0.811740\n",
       "238   -1.166378\n",
       "239   -1.314930\n",
       "Name: pc1, Length: 240, dtype: float64"
      ]
     },
     "execution_count": 158,
     "metadata": {},
     "output_type": "execute_result"
    }
   ],
   "source": [
    "finaldf['pc1']"
   ]
  },
  {
   "cell_type": "markdown",
   "metadata": {},
   "source": [
    "# check the graph to analyes the problem to which clacification we want to use"
   ]
  },
  {
   "cell_type": "code",
   "execution_count": 159,
   "metadata": {},
   "outputs": [
    {
     "data": {
      "text/plain": [
       "Text(0, 0.5, 'Second principle component')"
      ]
     },
     "execution_count": 159,
     "metadata": {},
     "output_type": "execute_result"
    },
    {
     "data": {
      "image/png": "[encoded data removed]",
      "text/plain": [
       "<Figure size 576x432 with 1 Axes>"
      ]
     },
     "metadata": {
      "needs_background": "light"
     },
     "output_type": "display_data"
    }
   ],
   "source": [
    "plt.figure(figsize=(8,6))\n",
    "plt.scatter(finaldf['pc1'],finaldf['pc2'],c=data['Anomaly'])\n",
    "plt.xlabel('First principle component')\n",
    "plt.ylabel('Second principle component')"
   ]
  },
  {
   "cell_type": "code",
   "execution_count": 160,
   "metadata": {},
   "outputs": [
    {
     "data": {
      "text/plain": [
       "array([0.22104966, 0.10785611])"
      ]
     },
     "execution_count": 160,
     "metadata": {},
     "output_type": "execute_result"
    }
   ],
   "source": [
    "pca.explained_variance_ratio_"
   ]
  },
  {
   "cell_type": "markdown",
   "metadata": {},
   "source": [
    "# divide data into two i.e dependent and independent variables"
   ]
  },
  {
   "cell_type": "code",
   "execution_count": 161,
   "metadata": {},
   "outputs": [],
   "source": [
    "x1 = finaldf.iloc[:,1:3].values\n",
    "y1 = finaldf[\"Anomaly\"].values"
   ]
  },
  {
   "cell_type": "markdown",
   "metadata": {},
   "source": [
    "# prepare data to train and test"
   ]
  },
  {
   "cell_type": "code",
   "execution_count": 162,
   "metadata": {},
   "outputs": [],
   "source": [
    "from sklearn.model_selection import train_test_split\n",
    "X_train,X_test,Y_train,Y_test=train_test_split(x1,y1,test_size=0.20)"
   ]
  },
  {
   "cell_type": "markdown",
   "metadata": {},
   "source": [
    "# do model"
   ]
  },
  {
   "cell_type": "code",
   "execution_count": 163,
   "metadata": {},
   "outputs": [],
   "source": [
    "from sklearn.metrics import confusion_matrix, classification_report\n",
    "from sklearn.metrics import accuracy_score"
   ]
  },
  {
   "cell_type": "code",
   "execution_count": 164,
   "metadata": {},
   "outputs": [
    {
     "name": "stdout",
     "output_type": "stream",
     "text": [
      "[[43  3]\n",
      " [ 2  0]]\n",
      "              precision    recall  f1-score   support\n",
      "\n",
      "           0       0.96      0.93      0.95        46\n",
      "           1       0.00      0.00      0.00         2\n",
      "\n",
      "    accuracy                           0.90        48\n",
      "   macro avg       0.48      0.47      0.47        48\n",
      "weighted avg       0.92      0.90      0.91        48\n",
      "\n"
     ]
    }
   ],
   "source": [
    "from sklearn.naive_bayes import GaussianNB\n",
    "model = GaussianNB()\n",
    "model.fit(X_train, Y_train);\n",
    "pred = model.predict(X_test)\n",
    "print(confusion_matrix(Y_test,predict))\n",
    "print(classification_report(Y_test,predict))\n"
   ]
  },
  {
   "cell_type": "markdown",
   "metadata": {},
   "source": [
    "# check accuracy "
   ]
  },
  {
   "cell_type": "code",
   "execution_count": 165,
   "metadata": {},
   "outputs": [
    {
     "data": {
      "text/plain": [
       "0.8958333333333334"
      ]
     },
     "execution_count": 165,
     "metadata": {},
     "output_type": "execute_result"
    }
   ],
   "source": [
    "accuracy_score(Y_test,predict)"
   ]
  },
  {
   "cell_type": "code",
   "execution_count": null,
   "metadata": {},
   "outputs": [],
   "source": []
  }
 ],
 "metadata": {
  "kernelspec": {
   "display_name": "Python 3",
   "language": "python",
   "name": "python3"
  },
  "language_info": {
   "codemirror_mode": {
    "name": "ipython",
    "version": 3
   },
   "file_extension": ".py",
   "mimetype": "text/x-python",
   "name": "python",
   "nbconvert_exporter": "python",
   "pygments_lexer": "ipython3",
   "version": "3.7.4"
  }
 },
 "nbformat": 4,
 "nbformat_minor": 2
}
